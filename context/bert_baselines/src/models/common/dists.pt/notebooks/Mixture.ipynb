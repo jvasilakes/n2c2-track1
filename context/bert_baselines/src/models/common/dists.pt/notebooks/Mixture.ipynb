{
 "cells": [
  {
   "cell_type": "code",
   "execution_count": 1,
   "metadata": {},
   "outputs": [],
   "source": [
    "import torch\n",
    "import numpy as np\n",
    "from matplotlib import pyplot as plt\n",
    "from torch.distributions.utils import broadcast_all\n",
    "from probabll.distributions.utils import mc_kl, mc_entropy\n",
    "from torch.distributions.kl import kl_divergence"
   ]
  },
  {
   "cell_type": "markdown",
   "metadata": {},
   "source": [
    "Let's import some densities with support over $(0, 1)$"
   ]
  },
  {
   "cell_type": "code",
   "execution_count": 2,
   "metadata": {},
   "outputs": [],
   "source": [
    "from torch.distributions.uniform import Uniform\n",
    "from probabll.distributions import RightTruncatedExponential\n",
    "from probabll.distributions import Kumaraswamy"
   ]
  },
  {
   "cell_type": "markdown",
   "metadata": {},
   "source": [
    "# Mixture of Discrete and Continuous over [0,1)\n",
    "\n",
    "This distribution is a mixture of a point masses at $0$ and a continuous distribution over the support $(0, 1)$.\n",
    "\n",
    "The distribution function looks like this:\n",
    "\n",
    "\\begin{equation}\n",
    "f(x|\\alpha, \\beta) = \\alpha \\delta(x) + (1-\\alpha) g(x|\\beta) \\mathbf 1_{(0, 1)}(x)\n",
    "\\end{equation}\n",
    "\n",
    "where $0 < \\alpha < 1$, $g(x|\\beta)$ is a (properly normalised) density over $(0,1)$, and $\\mathbf 1_{(0, 1)}(x)$ is the indicator function."
   ]
  },
  {
   "cell_type": "code",
   "execution_count": 39,
   "metadata": {},
   "outputs": [],
   "source": [
    "from probabll.distributions.mixdc import MixtureD0C01"
   ]
  },
  {
   "cell_type": "code",
   "execution_count": 4,
   "metadata": {},
   "outputs": [
    {
     "name": "stdout",
     "output_type": "stream",
     "text": [
      "tensor([0.2000]) tensor([0.8000])\n"
     ]
    }
   ],
   "source": [
    "p = MixtureD0C01(\n",
    "    probs0=torch.full([1], 0.2), \n",
    "    cont=RightTruncatedExponential(rate=torch.ones(1), upper=1.))\n",
    "print(p.p0, p.pc)"
   ]
  },
  {
   "cell_type": "code",
   "execution_count": 5,
   "metadata": {},
   "outputs": [
    {
     "data": {
      "text/plain": [
       "tensor([[0.3865],\n",
       "        [0.2682],\n",
       "        [0.5663],\n",
       "        [0.0000],\n",
       "        [0.0557],\n",
       "        [0.4937],\n",
       "        [0.5800],\n",
       "        [0.0000],\n",
       "        [0.3457],\n",
       "        [0.2662]])"
      ]
     },
     "execution_count": 5,
     "metadata": {},
     "output_type": "execute_result"
    }
   ],
   "source": [
    "x = p.rsample(torch.Size([10]))\n",
    "x"
   ]
  },
  {
   "cell_type": "code",
   "execution_count": 6,
   "metadata": {},
   "outputs": [
    {
     "data": {
      "image/png": "[encoded data removed]",
      "text/plain": [
       "<Figure size 432x288 with 1 Axes>"
      ]
     },
     "metadata": {
      "needs_background": "light"
     },
     "output_type": "display_data"
    }
   ],
   "source": [
    "_= plt.hist(p.rsample(torch.Size([1000])).numpy(), bins=50)"
   ]
  },
  {
   "cell_type": "code",
   "execution_count": 7,
   "metadata": {},
   "outputs": [
    {
     "name": "stdout",
     "output_type": "stream",
     "text": [
      "tensor([0.5000]) tensor([0.5000])\n"
     ]
    }
   ],
   "source": [
    "p2 = MixtureD0C01(\n",
    "    probs0=torch.full([1], 0.5),\n",
    "    cont=RightTruncatedExponential(rate=torch.ones(1) * 1., upper=1.))\n",
    "print(p2.p0, p2.pc)"
   ]
  },
  {
   "cell_type": "code",
   "execution_count": 8,
   "metadata": {},
   "outputs": [
    {
     "data": {
      "image/png": "[encoded data removed]",
      "text/plain": [
       "<Figure size 432x288 with 1 Axes>"
      ]
     },
     "metadata": {
      "needs_background": "light"
     },
     "output_type": "display_data"
    }
   ],
   "source": [
    "_= plt.hist(p2.rsample(torch.Size([1000])).numpy(), bins=50)"
   ]
  },
  {
   "cell_type": "code",
   "execution_count": 9,
   "metadata": {},
   "outputs": [
    {
     "data": {
      "text/plain": [
       "tensor([0.1929])"
      ]
     },
     "execution_count": 9,
     "metadata": {},
     "output_type": "execute_result"
    }
   ],
   "source": [
    "mc_kl(p, p2, 1000000)"
   ]
  },
  {
   "cell_type": "code",
   "execution_count": 10,
   "metadata": {},
   "outputs": [
    {
     "data": {
      "text/plain": [
       "tensor([0.1927])"
      ]
     },
     "execution_count": 10,
     "metadata": {},
     "output_type": "execute_result"
    }
   ],
   "source": [
    "kl_divergence(p, p2)"
   ]
  },
  {
   "cell_type": "code",
   "execution_count": 11,
   "metadata": {},
   "outputs": [
    {
     "data": {
      "text/plain": [
       "tensor([0.4673])"
      ]
     },
     "execution_count": 11,
     "metadata": {},
     "output_type": "execute_result"
    }
   ],
   "source": [
    "mc_entropy(p, 1000000)"
   ]
  },
  {
   "cell_type": "code",
   "execution_count": 12,
   "metadata": {},
   "outputs": [
    {
     "data": {
      "text/plain": [
       "tensor([0.4679])"
      ]
     },
     "execution_count": 12,
     "metadata": {},
     "output_type": "execute_result"
    }
   ],
   "source": [
    "p.entropy()"
   ]
  },
  {
   "cell_type": "markdown",
   "metadata": {},
   "source": [
    "# Mixture of Discrete and Continuous over [0,1]\n",
    "\n",
    "This distribution is a mixture of a point masses at $0$, another at $1$, and a continuous distribution over the support $(0, 1)$.\n",
    "\n",
    "The distribution function looks like this:\n",
    "\n",
    "\\begin{equation}\n",
    "f(x|\\alpha, \\beta) = \\alpha_0 \\delta(x) + \\alpha_1 \\delta(1 - x) + (1-\\alpha_0-\\alpha_1) g(x|\\beta) \\mathbf 1_{(0, 1)}(x)\n",
    "\\end{equation}\n",
    "\n",
    "where $0 < \\alpha_i < 1$, $g(x|\\beta)$ is a (properly normalised) density over $(0,1)$, $\\mathbf 1_{(0, 1)}(x)$ the indicator function."
   ]
  },
  {
   "cell_type": "code",
   "execution_count": 13,
   "metadata": {},
   "outputs": [],
   "source": [
    "from probabll.distributions.mixdc import MixtureD01C01"
   ]
  },
  {
   "cell_type": "code",
   "execution_count": 14,
   "metadata": {},
   "outputs": [
    {
     "data": {
      "text/plain": [
       "tensor([0.3000, 0.5000, 0.2000])"
      ]
     },
     "execution_count": 14,
     "metadata": {},
     "output_type": "execute_result"
    }
   ],
   "source": [
    "probs = torch.from_numpy(np.array([0.3, 0.5, 0.2])).float()\n",
    "probs"
   ]
  },
  {
   "cell_type": "code",
   "execution_count": 15,
   "metadata": {},
   "outputs": [],
   "source": [
    "p = MixtureD01C01(\n",
    "    cont=Uniform(torch.zeros([1]), torch.ones([1])),\n",
    "    probs=probs\n",
    ")"
   ]
  },
  {
   "cell_type": "code",
   "execution_count": 16,
   "metadata": {},
   "outputs": [
    {
     "data": {
      "text/plain": [
       "tensor([[1.0000],\n",
       "        [1.0000],\n",
       "        [1.0000],\n",
       "        [0.0637],\n",
       "        [0.0452],\n",
       "        [1.0000],\n",
       "        [1.0000],\n",
       "        [1.0000],\n",
       "        [0.0000],\n",
       "        [0.0000]])"
      ]
     },
     "execution_count": 16,
     "metadata": {},
     "output_type": "execute_result"
    }
   ],
   "source": [
    "x = p.rsample(torch.Size([10]))\n",
    "x"
   ]
  },
  {
   "cell_type": "code",
   "execution_count": 17,
   "metadata": {},
   "outputs": [
    {
     "data": {
      "image/png": "[encoded data removed]",
      "text/plain": [
       "<Figure size 432x288 with 1 Axes>"
      ]
     },
     "metadata": {
      "needs_background": "light"
     },
     "output_type": "display_data"
    }
   ],
   "source": [
    "_= plt.hist(p.rsample(torch.Size([1000])).numpy(), bins=50)"
   ]
  },
  {
   "cell_type": "code",
   "execution_count": 18,
   "metadata": {},
   "outputs": [],
   "source": [
    "q = MixtureD01C01(\n",
    "    cont=Uniform(torch.zeros([1]), torch.ones([1])),\n",
    "    probs=torch.from_numpy(np.array([0.2, 0.5, 0.3])).float()\n",
    ")"
   ]
  },
  {
   "cell_type": "code",
   "execution_count": 19,
   "metadata": {},
   "outputs": [
    {
     "data": {
      "text/plain": [
       "tensor([1.0297])"
      ]
     },
     "execution_count": 19,
     "metadata": {},
     "output_type": "execute_result"
    }
   ],
   "source": [
    "p.entropy()"
   ]
  },
  {
   "cell_type": "code",
   "execution_count": 20,
   "metadata": {},
   "outputs": [
    {
     "data": {
      "text/plain": [
       "tensor([1.0297])"
      ]
     },
     "execution_count": 20,
     "metadata": {},
     "output_type": "execute_result"
    }
   ],
   "source": [
    "q.entropy()"
   ]
  },
  {
   "cell_type": "code",
   "execution_count": 21,
   "metadata": {},
   "outputs": [
    {
     "data": {
      "text/plain": [
       "tensor([1.0298])"
      ]
     },
     "execution_count": 21,
     "metadata": {},
     "output_type": "execute_result"
    }
   ],
   "source": [
    "mc_entropy(p, 1000000)"
   ]
  },
  {
   "cell_type": "code",
   "execution_count": 22,
   "metadata": {},
   "outputs": [
    {
     "data": {
      "text/plain": [
       "tensor([0.0405])"
      ]
     },
     "execution_count": 22,
     "metadata": {},
     "output_type": "execute_result"
    }
   ],
   "source": [
    "kl_divergence(p, q)"
   ]
  },
  {
   "cell_type": "code",
   "execution_count": 23,
   "metadata": {},
   "outputs": [
    {
     "data": {
      "text/plain": [
       "tensor([0.0407])"
      ]
     },
     "execution_count": 23,
     "metadata": {},
     "output_type": "execute_result"
    }
   ],
   "source": [
    "mc_kl(p, q, 1000000)"
   ]
  },
  {
   "cell_type": "code",
   "execution_count": 24,
   "metadata": {},
   "outputs": [
    {
     "data": {
      "text/plain": [
       "tensor([-0.])"
      ]
     },
     "execution_count": 24,
     "metadata": {},
     "output_type": "execute_result"
    }
   ],
   "source": [
    "- torch.log(p.cont.cdf(1) - p.cont.cdf(0))"
   ]
  },
  {
   "cell_type": "markdown",
   "metadata": {},
   "source": [
    "# Prior and Posterior in VI\n",
    "\n",
    "Let's specify a prior\n",
    "\n",
    "\\begin{equation}\n",
    "    \\alpha_0 \\delta(x) + \\alpha_1 \\delta(1-x) + (1-\\alpha_0-\\alpha_1) \\mathcal U(x|0, 1) \\mathbf 1_{(0,1)}(x)\n",
    "\\end{equation}\n",
    "\n",
    "and an approximate posterior\n",
    "\\begin{equation}\n",
    "    \\alpha_0 \\delta(x) + \\alpha_1 \\delta(1-x) + (1-\\alpha_0-\\alpha_1) \\text{Exp}_{(0,1)}(x|\\lambda) \\mathbf 1_{(0,1)}(x)\n",
    "\\end{equation}\n",
    "\n",
    "where $\\text{Exp}_{(0,1)}(\\lambda)$ is an RightTruncatedExponential rv.\n",
    "\n",
    "We provide support to KL for pairs like that, where the densities are mixtures D01C01 (or D0C01) and the prior uses a Uniform density over $(0, 1)$. They are particularly simple due to the uniform prior. Whenever the density used in the approximate posterior admits a closed-form entropy, we have the entire expression in closed form!"
   ]
  },
  {
   "cell_type": "code",
   "execution_count": 25,
   "metadata": {},
   "outputs": [],
   "source": [
    "p = MixtureD01C01(\n",
    "    cont=Uniform(torch.zeros([1]), torch.ones([1])),\n",
    "    probs=torch.from_numpy(np.array([0.2, 0.5, 0.3])).float()\n",
    ")"
   ]
  },
  {
   "cell_type": "code",
   "execution_count": 26,
   "metadata": {},
   "outputs": [],
   "source": [
    "q1 = MixtureD01C01(\n",
    "    cont=RightTruncatedExponential(rate=torch.full([1], 10.), upper=1.),\n",
    "    probs=torch.from_numpy(np.array([0.3, 0.5, 0.2])).float()\n",
    ")"
   ]
  },
  {
   "cell_type": "code",
   "execution_count": 27,
   "metadata": {},
   "outputs": [
    {
     "data": {
      "image/png": "[encoded data removed]",
      "text/plain": [
       "<Figure size 432x288 with 1 Axes>"
      ]
     },
     "metadata": {
      "needs_background": "light"
     },
     "output_type": "display_data"
    }
   ],
   "source": [
    "_= plt.hist(q1.rsample(torch.Size([1000])).numpy(), bins=50)"
   ]
  },
  {
   "cell_type": "code",
   "execution_count": 28,
   "metadata": {},
   "outputs": [
    {
     "data": {
      "text/plain": [
       "tensor([0.3012])"
      ]
     },
     "execution_count": 28,
     "metadata": {},
     "output_type": "execute_result"
    }
   ],
   "source": [
    "kl_divergence(q1, p)"
   ]
  },
  {
   "cell_type": "code",
   "execution_count": 29,
   "metadata": {},
   "outputs": [
    {
     "data": {
      "text/plain": [
       "tensor([0.3001])"
      ]
     },
     "execution_count": 29,
     "metadata": {},
     "output_type": "execute_result"
    }
   ],
   "source": [
    "mc_kl(q1, p, 1000000)"
   ]
  },
  {
   "cell_type": "code",
   "execution_count": 30,
   "metadata": {},
   "outputs": [
    {
     "data": {
      "text/plain": [
       "tensor([0.7690])"
      ]
     },
     "execution_count": 30,
     "metadata": {},
     "output_type": "execute_result"
    }
   ],
   "source": [
    "q1.entropy()"
   ]
  },
  {
   "cell_type": "code",
   "execution_count": 31,
   "metadata": {},
   "outputs": [
    {
     "data": {
      "text/plain": [
       "tensor([0.7696])"
      ]
     },
     "execution_count": 31,
     "metadata": {},
     "output_type": "execute_result"
    }
   ],
   "source": [
    "mc_entropy(q1, 1000000)"
   ]
  },
  {
   "cell_type": "markdown",
   "metadata": {},
   "source": [
    "Another possible pair:\n",
    "\n",
    "\\begin{equation}\n",
    "    \\alpha_0 \\delta(x) + \\alpha_1 \\delta(1-x) + (1-\\alpha_0-\\alpha_1) \\mathcal U(x|0, 1) \\mathbf 1_{(0,1)}(x)\n",
    "\\end{equation}\n",
    "\n",
    "and an approximate posterior\n",
    "\\begin{equation}\n",
    "    \\alpha_0 \\delta(x) + \\alpha_1 \\delta(1-x) + (1-\\alpha_0-\\alpha_1) \\text{Kumaraswamy}(x|a, b) \\mathbf 1_{(0,1)}(x)\n",
    "\\end{equation}"
   ]
  },
  {
   "cell_type": "code",
   "execution_count": 32,
   "metadata": {},
   "outputs": [],
   "source": [
    "q2 = MixtureD01C01(\n",
    "    cont=Kumaraswamy(a=torch.full([1], 5.), b=torch.full([1], 5.)),\n",
    "    probs=torch.from_numpy(np.array([[0.3, 0.5, 0.2], [0.2, 0.5, 0.3]])).float()\n",
    ")"
   ]
  },
  {
   "cell_type": "code",
   "execution_count": 33,
   "metadata": {},
   "outputs": [
    {
     "data": {
      "image/png": "[encoded data removed]",
      "text/plain": [
       "<Figure size 432x288 with 1 Axes>"
      ]
     },
     "metadata": {
      "needs_background": "light"
     },
     "output_type": "display_data"
    }
   ],
   "source": [
    "_= plt.hist(q2.rsample(torch.Size([1000])).numpy(), bins=50)"
   ]
  },
  {
   "cell_type": "code",
   "execution_count": 34,
   "metadata": {},
   "outputs": [
    {
     "data": {
      "text/plain": [
       "tensor([0.1590, 0.1777])"
      ]
     },
     "execution_count": 34,
     "metadata": {},
     "output_type": "execute_result"
    }
   ],
   "source": [
    "kl_divergence(q2, p)"
   ]
  },
  {
   "cell_type": "code",
   "execution_count": 35,
   "metadata": {},
   "outputs": [
    {
     "data": {
      "text/plain": [
       "tensor([0.1637, 0.1774])"
      ]
     },
     "execution_count": 35,
     "metadata": {},
     "output_type": "execute_result"
    }
   ],
   "source": [
    "mc_kl(q2, p, 1000000)"
   ]
  },
  {
   "cell_type": "code",
   "execution_count": 36,
   "metadata": {},
   "outputs": [
    {
     "data": {
      "text/plain": [
       "tensor([0.9112, 0.8520])"
      ]
     },
     "execution_count": 36,
     "metadata": {},
     "output_type": "execute_result"
    }
   ],
   "source": [
    "q2.entropy()"
   ]
  },
  {
   "cell_type": "code",
   "execution_count": 37,
   "metadata": {},
   "outputs": [
    {
     "data": {
      "text/plain": [
       "tensor([0.9069, 0.8512])"
      ]
     },
     "execution_count": 37,
     "metadata": {},
     "output_type": "execute_result"
    }
   ],
   "source": [
    "mc_entropy(q2, 1000000)"
   ]
  },
  {
   "cell_type": "code",
   "execution_count": null,
   "metadata": {},
   "outputs": [],
   "source": []
  }
 ],
 "metadata": {
  "kernelspec": {
   "display_name": "Python 3",
   "language": "python",
   "name": "python3"
  },
  "language_info": {
   "codemirror_mode": {
    "name": "ipython",
    "version": 3
   },
   "file_extension": ".py",
   "mimetype": "text/x-python",
   "name": "python",
   "nbconvert_exporter": "python",
   "pygments_lexer": "ipython3",
   "version": "3.6.8"
  }
 },
 "nbformat": 4,
 "nbformat_minor": 2
}
