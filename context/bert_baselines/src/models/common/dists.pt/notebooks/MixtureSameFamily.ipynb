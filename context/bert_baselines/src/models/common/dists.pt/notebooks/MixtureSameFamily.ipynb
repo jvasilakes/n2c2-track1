{
 "cells": [
  {
   "cell_type": "markdown",
   "metadata": {},
   "source": [
    "# Discrete Mixture of PDFs"
   ]
  },
  {
   "cell_type": "code",
   "execution_count": 1,
   "metadata": {},
   "outputs": [],
   "source": [
    "%load_ext autoreload\n",
    "%autoreload 2\n",
    "import numpy as np\n",
    "from matplotlib import pyplot as plt\n",
    "import torch\n",
    "from torch.distributions import Normal, Independent\n",
    "from probabll.distributions import MixtureSameFamily, MixtureOfGaussians"
   ]
  },
  {
   "cell_type": "code",
   "execution_count": 2,
   "metadata": {},
   "outputs": [
    {
     "name": "stdout",
     "output_type": "stream",
     "text": [
      "torch.Size([3]) torch.Size([1]) torch.Size([3])\n"
     ]
    }
   ],
   "source": [
    "B = 4 \n",
    "K = 3\n",
    "D = 1\n",
    "gaussians = Normal(\n",
    "    #torch.zeros([B, K, D]), torch.ones([B, K, D])\n",
    "    torch.tensor(np.array([np.ones(D) * k for k in np.arange(K) - K // 2], dtype=np.float32)), \n",
    "    torch.ones([K, D]) * 0.2\n",
    ")\n",
    "\n",
    "components = Independent(gaussians, 1)\n",
    "#components = gaussians\n",
    "logits = torch.ones([K])\n",
    "print(components.batch_shape, components.event_shape, logits.shape)"
   ]
  },
  {
   "cell_type": "code",
   "execution_count": 3,
   "metadata": {},
   "outputs": [],
   "source": [
    "mog = MixtureSameFamily(    \n",
    "    logits=logits, \n",
    "    components=components)"
   ]
  },
  {
   "cell_type": "code",
   "execution_count": 4,
   "metadata": {},
   "outputs": [
    {
     "data": {
      "image/png": "[encoded data removed]",
      "text/plain": [
       "<Figure size 432x288 with 1 Axes>"
      ]
     },
     "metadata": {
      "needs_background": "light"
     },
     "output_type": "display_data"
    }
   ],
   "source": [
    "_ = plt.hist(mog.sample(torch.Size([1000])).numpy().flatten(), 50, density=False)     "
   ]
  },
  {
   "cell_type": "code",
   "execution_count": null,
   "metadata": {},
   "outputs": [],
   "source": []
  },
  {
   "cell_type": "code",
   "execution_count": 7,
   "metadata": {},
   "outputs": [
    {
     "data": {
      "text/plain": [
       "tensor(0.5000)"
      ]
     },
     "execution_count": 7,
     "metadata": {},
     "output_type": "execute_result"
    }
   ],
   "source": [
    "Independent(Normal(0, 1), 0).base_dist.cdf(0)"
   ]
  },
  {
   "cell_type": "code",
   "execution_count": null,
   "metadata": {},
   "outputs": [],
   "source": []
  }
 ],
 "metadata": {
  "kernelspec": {
   "display_name": "Python 3",
   "language": "python",
   "name": "python3"
  },
  "language_info": {
   "codemirror_mode": {
    "name": "ipython",
    "version": 3
   },
   "file_extension": ".py",
   "mimetype": "text/x-python",
   "name": "python",
   "nbconvert_exporter": "python",
   "pygments_lexer": "ipython3",
   "version": "3.6.8"
  }
 },
 "nbformat": 4,
 "nbformat_minor": 2
}
