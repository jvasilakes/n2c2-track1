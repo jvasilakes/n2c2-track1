{
 "cells": [
  {
   "cell_type": "code",
   "execution_count": 1,
   "metadata": {},
   "outputs": [],
   "source": [
    "### Let us start"
   ]
  },
  {
   "cell_type": "code",
   "execution_count": 1,
   "metadata": {},
   "outputs": [
    {
     "name": "stderr",
     "output_type": "stream",
     "text": [
      "100%|██████████| 350/350 [00:54<00:00,  6.44it/s]\n",
      "100%|██████████| 50/50 [00:07<00:00,  6.25it/s]\n"
     ]
    }
   ],
   "source": [
    "import json\n",
    "from preprocess import preprocess\n",
    "from os.path import isfile, join\n",
    "data_path = [\"../../data/original/train/\",\"../../data/original/dev/\"] \n",
    "folder_path = \"../../data/original/\"\n",
    "\n",
    "stats = {}\n",
    "for i,path in enumerate(data_path):\n",
    "    stats[path.split('/')[-2]] = preprocess(path, folder_path, 1)\n",
    "    \n",
    "with open(join(folder_path,'stats.txt'),\"w\") as st_out:\n",
    "     st_out.write(json.dumps(stats))"
   ]
  },
  {
   "cell_type": "code",
   "execution_count": 3,
   "metadata": {},
   "outputs": [
    {
     "ename": "NameError",
     "evalue": "name 'os' is not defined",
     "output_type": "error",
     "traceback": [
      "\u001b[0;31m---------------------------------------------------------------------------\u001b[0m",
      "\u001b[0;31mNameError\u001b[0m                                 Traceback (most recent call last)",
      "\u001b[0;32m<ipython-input-3-6a06e6229b70>\u001b[0m in \u001b[0;36m<module>\u001b[0;34m\u001b[0m\n\u001b[0;32m----> 1\u001b[0;31m \u001b[0mpwd\u001b[0m \u001b[0;34m=\u001b[0m \u001b[0mos\u001b[0m\u001b[0;34m.\u001b[0m\u001b[0mgetcwd\u001b[0m\u001b[0;34m(\u001b[0m\u001b[0;34m)\u001b[0m\u001b[0;34m\u001b[0m\u001b[0;34m\u001b[0m\u001b[0m\n\u001b[0m\u001b[1;32m      2\u001b[0m \u001b[0mprint\u001b[0m\u001b[0;34m(\u001b[0m\u001b[0mpwd\u001b[0m\u001b[0;34m)\u001b[0m\u001b[0;34m\u001b[0m\u001b[0;34m\u001b[0m\u001b[0m\n\u001b[1;32m      3\u001b[0m \u001b[0mos\u001b[0m\u001b[0;34m.\u001b[0m\u001b[0mchdir\u001b[0m\u001b[0;34m(\u001b[0m\u001b[0;34m'../..'\u001b[0m\u001b[0;34m)\u001b[0m\u001b[0;34m\u001b[0m\u001b[0;34m\u001b[0m\u001b[0m\n",
      "\u001b[0;31mNameError\u001b[0m: name 'os' is not defined"
     ]
    }
   ],
   "source": [
    "pwd = os.getcwd()\n",
    "print(pwd)\n",
    "os.chdir('../..')"
   ]
  },
  {
   "cell_type": "code",
   "execution_count": 1,
   "metadata": {},
   "outputs": [
    {
     "ename": "ModuleNotFoundError",
     "evalue": "No module named 'preprocess_biomedicus'",
     "output_type": "error",
     "traceback": [
      "\u001b[0;31m---------------------------------------------------------------------------\u001b[0m",
      "\u001b[0;31mModuleNotFoundError\u001b[0m                       Traceback (most recent call last)",
      "\u001b[0;32m<ipython-input-1-6415d4938011>\u001b[0m in \u001b[0;36m<module>\u001b[0;34m\u001b[0m\n\u001b[0;32m----> 1\u001b[0;31m \u001b[0;32mfrom\u001b[0m \u001b[0mpreprocess_biomedicus\u001b[0m \u001b[0;32mimport\u001b[0m \u001b[0mpreprocess_segmented\u001b[0m\u001b[0;34m\u001b[0m\u001b[0;34m\u001b[0m\u001b[0m\n\u001b[0m\u001b[1;32m      2\u001b[0m \u001b[0;32mfrom\u001b[0m \u001b[0mos\u001b[0m\u001b[0;34m.\u001b[0m\u001b[0mpath\u001b[0m \u001b[0;32mimport\u001b[0m \u001b[0misfile\u001b[0m\u001b[0;34m,\u001b[0m \u001b[0mjoin\u001b[0m\u001b[0;34m\u001b[0m\u001b[0;34m\u001b[0m\u001b[0m\n\u001b[1;32m      3\u001b[0m \u001b[0;32mimport\u001b[0m \u001b[0mjson\u001b[0m\u001b[0;34m\u001b[0m\u001b[0;34m\u001b[0m\u001b[0m\n\u001b[1;32m      4\u001b[0m \u001b[0mdata_path\u001b[0m \u001b[0;34m=\u001b[0m \u001b[0;34m[\u001b[0m\u001b[0;34m\"../../data/original/train/\"\u001b[0m\u001b[0;34m,\u001b[0m\u001b[0;34m\"../../data/original/dev/\"\u001b[0m\u001b[0;34m]\u001b[0m\u001b[0;34m\u001b[0m\u001b[0;34m\u001b[0m\u001b[0m\n\u001b[1;32m      5\u001b[0m \u001b[0mfolder_path\u001b[0m \u001b[0;34m=\u001b[0m \u001b[0;34m\"../../data/segmented/\"\u001b[0m\u001b[0;34m\u001b[0m\u001b[0;34m\u001b[0m\u001b[0m\n",
      "\u001b[0;31mModuleNotFoundError\u001b[0m: No module named 'preprocess_biomedicus'"
     ]
    }
   ],
   "source": [
    "from preprocess_biomedicus import preprocess_segmented\n",
    "from os.path import isfile, join\n",
    "import json\n",
    "data_path = [\"../../data/original/train/\",\"../../data/original/dev/\"]\n",
    "folder_path = \"../../data/segmented/\"\n",
    "\n",
    "stats = {}\n",
    "for i,path in enumerate(data_path):\n",
    "    stats[path.split('/')[-2]] = preprocess_segmented(path, preprocess_path, segmented_path, 1)\n",
    "    \n",
    "with open(join(preprocess_path,'biom_stats.txt'),\"w\") as st_out:\n",
    "     st_out.write(json.dumps(stats))\n"
   ]
  },
  {
   "cell_type": "code",
   "execution_count": 1,
   "metadata": {},
   "outputs": [
    {
     "name": "stderr",
     "output_type": "stream",
     "text": [
      "100%|██████████| 350/350 [00:07<00:00, 49.73it/s]\n",
      "100%|██████████| 50/50 [00:01<00:00, 41.51it/s]\n"
     ]
    }
   ],
   "source": [
    "from preprocess_spacy import preprocess_spacy\n",
    "from os.path import isfile, join\n",
    "import json\n",
    "data_path = [\"../../data/original_v2/train/\",\"../../data/original_v2/dev/\"]\n",
    "spacy_path = \"../../data/spacy/\"\n",
    "\n",
    "stats = {}\n",
    "for i,path in enumerate(data_path):\n",
    "    stats[path.split('/')[-2]] = preprocess_spacy(path, spacy_path, 1)\n",
    "    \n",
    "with open(join(spacy_path,'spacy_stats.txt'),\"w\") as st_out:\n",
    "     st_out.write(json.dumps(stats))"
   ]
  },
  {
   "cell_type": "code",
   "execution_count": null,
   "metadata": {},
   "outputs": [],
   "source": []
  }
 ],
 "metadata": {
  "kernelspec": {
   "display_name": "Python 3",
   "language": "python",
   "name": "python3"
  },
  "language_info": {
   "codemirror_mode": {
    "name": "ipython",
    "version": 3
   },
   "file_extension": ".py",
   "mimetype": "text/x-python",
   "name": "python",
   "nbconvert_exporter": "python",
   "pygments_lexer": "ipython3",
   "version": "3.7.4"
  }
 },
 "nbformat": 4,
 "nbformat_minor": 4
}
