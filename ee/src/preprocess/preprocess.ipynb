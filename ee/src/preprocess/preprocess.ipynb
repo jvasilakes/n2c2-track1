{
 "cells": [
  {
   "cell_type": "code",
   "execution_count": 1,
   "metadata": {},
   "outputs": [],
   "source": [
    "### Let us start"
   ]
  },
  {
   "cell_type": "code",
   "execution_count": 1,
   "metadata": {},
   "outputs": [
    {
     "name": "stderr",
     "output_type": "stream",
     "text": [
      "100%|██████████| 350/350 [00:54<00:00,  6.44it/s]\n",
      "100%|██████████| 50/50 [00:07<00:00,  6.25it/s]\n"
     ]
    }
   ],
   "source": [
    "import json\n",
    "from preprocess import preprocess\n",
    "from os.path import isfile, join\n",
    "data_path = [\"../../data/original/train/\",\"../../data/original/dev/\"] \n",
    "folder_path = \"../../data/original/\"\n",
    "\n",
    "stats = {}\n",
    "for i,path in enumerate(data_path):\n",
    "    stats[path.split('/')[-2]] = preprocess(path, folder_path, 1)\n",
    "    \n",
    "with open(join(folder_path,'stats.txt'),\"w\") as st_out:\n",
    "     st_out.write(json.dumps(stats))"
   ]
  },
  {
   "cell_type": "code",
   "execution_count": 3,
   "metadata": {},
   "outputs": [
    {
     "ename": "NameError",
     "evalue": "name 'os' is not defined",
     "output_type": "error",
     "traceback": [
      "\u001b[0;31m---------------------------------------------------------------------------\u001b[0m",
      "\u001b[0;31mNameError\u001b[0m                                 Traceback (most recent call last)",
      "\u001b[0;32m<ipython-input-3-6a06e6229b70>\u001b[0m in \u001b[0;36m<module>\u001b[0;34m\u001b[0m\n\u001b[0;32m----> 1\u001b[0;31m \u001b[0mpwd\u001b[0m \u001b[0;34m=\u001b[0m \u001b[0mos\u001b[0m\u001b[0;34m.\u001b[0m\u001b[0mgetcwd\u001b[0m\u001b[0;34m(\u001b[0m\u001b[0;34m)\u001b[0m\u001b[0;34m\u001b[0m\u001b[0;34m\u001b[0m\u001b[0m\n\u001b[0m\u001b[1;32m      2\u001b[0m \u001b[0mprint\u001b[0m\u001b[0;34m(\u001b[0m\u001b[0mpwd\u001b[0m\u001b[0;34m)\u001b[0m\u001b[0;34m\u001b[0m\u001b[0;34m\u001b[0m\u001b[0m\n\u001b[1;32m      3\u001b[0m \u001b[0mos\u001b[0m\u001b[0;34m.\u001b[0m\u001b[0mchdir\u001b[0m\u001b[0;34m(\u001b[0m\u001b[0;34m'../..'\u001b[0m\u001b[0;34m)\u001b[0m\u001b[0;34m\u001b[0m\u001b[0;34m\u001b[0m\u001b[0m\n",
      "\u001b[0;31mNameError\u001b[0m: name 'os' is not defined"
     ]
    }
   ],
   "source": [
    "pwd = os.getcwd()\n",
    "print(pwd)\n",
    "os.chdir('../..')"
   ]
  },
  {
   "cell_type": "code",
   "execution_count": 1,
   "metadata": {},
   "outputs": [
    {
     "ename": "ModuleNotFoundError",
     "evalue": "No module named 'preprocess_biomedicus'",
     "output_type": "error",
     "traceback": [
      "\u001b[0;31m---------------------------------------------------------------------------\u001b[0m",
      "\u001b[0;31mModuleNotFoundError\u001b[0m                       Traceback (most recent call last)",
      "\u001b[0;32m<ipython-input-1-6415d4938011>\u001b[0m in \u001b[0;36m<module>\u001b[0;34m\u001b[0m\n\u001b[0;32m----> 1\u001b[0;31m \u001b[0;32mfrom\u001b[0m \u001b[0mpreprocess_biomedicus\u001b[0m \u001b[0;32mimport\u001b[0m \u001b[0mpreprocess_segmented\u001b[0m\u001b[0;34m\u001b[0m\u001b[0;34m\u001b[0m\u001b[0m\n\u001b[0m\u001b[1;32m      2\u001b[0m \u001b[0;32mfrom\u001b[0m \u001b[0mos\u001b[0m\u001b[0;34m.\u001b[0m\u001b[0mpath\u001b[0m \u001b[0;32mimport\u001b[0m \u001b[0misfile\u001b[0m\u001b[0;34m,\u001b[0m \u001b[0mjoin\u001b[0m\u001b[0;34m\u001b[0m\u001b[0;34m\u001b[0m\u001b[0m\n\u001b[1;32m      3\u001b[0m \u001b[0;32mimport\u001b[0m \u001b[0mjson\u001b[0m\u001b[0;34m\u001b[0m\u001b[0;34m\u001b[0m\u001b[0m\n\u001b[1;32m      4\u001b[0m \u001b[0mdata_path\u001b[0m \u001b[0;34m=\u001b[0m \u001b[0;34m[\u001b[0m\u001b[0;34m\"../../data/original/train/\"\u001b[0m\u001b[0;34m,\u001b[0m\u001b[0;34m\"../../data/original/dev/\"\u001b[0m\u001b[0;34m]\u001b[0m\u001b[0;34m\u001b[0m\u001b[0;34m\u001b[0m\u001b[0m\n\u001b[1;32m      5\u001b[0m \u001b[0mfolder_path\u001b[0m \u001b[0;34m=\u001b[0m \u001b[0;34m\"../../data/segmented/\"\u001b[0m\u001b[0;34m\u001b[0m\u001b[0;34m\u001b[0m\u001b[0m\n",
      "\u001b[0;31mModuleNotFoundError\u001b[0m: No module named 'preprocess_biomedicus'"
     ]
    }
   ],
   "source": [
    "from preprocess_biomedicus import preprocess_segmented\n",
    "from os.path import isfile, join\n",
    "import json\n",
    "data_path = [\"../../data/original/train/\",\"../../data/original/dev/\"]\n",
    "folder_path = \"../../data/segmented/\"\n",
    "\n",
    "stats = {}\n",
    "for i,path in enumerate(data_path):\n",
    "    stats[path.split('/')[-2]] = preprocess_segmented(path, preprocess_path, segmented_path, 1)\n",
    "    \n",
    "with open(join(preprocess_path,'biom_stats.txt'),\"w\") as st_out:\n",
    "     st_out.write(json.dumps(stats))\n"
   ]
  },
  {
   "cell_type": "code",
   "execution_count": 1,
   "metadata": {},
   "outputs": [
    {
     "name": "stderr",
     "output_type": "stream",
     "text": [
      "  4%|▎         | 13/350 [00:00<00:05, 57.61it/s]"
     ]
    },
    {
     "name": "stdout",
     "output_type": "stream",
     "text": [
      "We got you  109-01 ['E8', 'E24'] ['Start', 'Stop']\n"
     ]
    },
    {
     "name": "stderr",
     "output_type": "stream",
     "text": [
      " 11%|█         | 37/350 [00:00<00:05, 53.38it/s]"
     ]
    },
    {
     "name": "stdout",
     "output_type": "stream",
     "text": [
      "We got you  126-01 ['E2', 'E43', 'E53'] ['Stop', 'Decrease', 'Decrease']\n",
      "We got you  132-01 ['E13', 'E14'] ['Stop', 'Start']\n"
     ]
    },
    {
     "name": "stderr",
     "output_type": "stream",
     "text": [
      " 15%|█▍        | 51/350 [00:00<00:05, 51.86it/s]"
     ]
    },
    {
     "name": "stdout",
     "output_type": "stream",
     "text": [
      "We got you  135-03 ['E2', 'E27'] ['Increase', 'Decrease']\n",
      "We got you  135-03 ['E25', 'E38'] ['Start', 'Stop']\n"
     ]
    },
    {
     "name": "stderr",
     "output_type": "stream",
     "text": [
      " 21%|██        | 73/350 [00:01<00:05, 49.55it/s]"
     ]
    },
    {
     "name": "stdout",
     "output_type": "stream",
     "text": [
      "We got you  156-01 ['E6', 'E9'] ['Stop', 'Start']\n",
      "We got you  156-02 ['E9', 'E10'] ['Stop', 'Start']\n",
      "We got you  158-03 ['E10', 'E36'] ['Start', 'Stop']\n"
     ]
    },
    {
     "name": "stderr",
     "output_type": "stream",
     "text": [
      " 25%|██▌       | 88/350 [00:01<00:04, 53.96it/s]"
     ]
    },
    {
     "name": "stdout",
     "output_type": "stream",
     "text": [
      "We got you  166-04 ['E11', 'E23'] ['Increase', 'Increase']\n",
      "We got you  170-01 ['E3', 'E4'] ['Start', 'Stop']\n",
      "We got you  177-01 ['E1', 'E4'] ['UniqueDose', 'Start']\n"
     ]
    },
    {
     "name": "stderr",
     "output_type": "stream",
     "text": [
      " 29%|██▉       | 101/350 [00:01<00:05, 42.96it/s]"
     ]
    },
    {
     "name": "stdout",
     "output_type": "stream",
     "text": [
      "We got you  177-04 ['E45', 'E80'] ['Start', 'Increase']\n",
      "We got you  177-04 ['E46', 'E81'] ['Start', 'Increase']\n"
     ]
    },
    {
     "name": "stderr",
     "output_type": "stream",
     "text": [
      " 31%|███       | 107/350 [00:02<00:05, 40.66it/s]"
     ]
    },
    {
     "name": "stdout",
     "output_type": "stream",
     "text": [
      "We got you  189-03 ['E16', 'E14'] ['Decrease', 'Stop']\n",
      "We got you  189-03 ['E17', 'E30'] ['Decrease', 'Stop']\n"
     ]
    },
    {
     "name": "stderr",
     "output_type": "stream",
     "text": [
      " 37%|███▋      | 128/350 [00:02<00:05, 43.59it/s]"
     ]
    },
    {
     "name": "stdout",
     "output_type": "stream",
     "text": [
      "We got you  194-01 ['E15', 'E16'] ['Start', 'Stop']\n",
      "We got you  198-03 ['E1', 'E25'] ['Start', 'Stop']\n",
      "We got you  198-03 ['E28', 'E29'] ['Stop', 'Start']\n"
     ]
    },
    {
     "name": "stderr",
     "output_type": "stream",
     "text": [
      " 38%|███▊      | 134/350 [00:02<00:05, 36.50it/s]"
     ]
    },
    {
     "name": "stdout",
     "output_type": "stream",
     "text": [
      "We got you  201-02 ['E24', 'E37'] ['Start', 'Stop']\n",
      "We got you  201-04 ['E26', 'E43'] ['UniqueDose', 'UniqueDose']\n",
      "We got you  203-05 ['E4', 'E19'] ['Increase', 'Increase']\n",
      "We got you  203-05 ['E6', 'E8'] ['Start', 'Start']\n"
     ]
    },
    {
     "name": "stderr",
     "output_type": "stream",
     "text": [
      " 43%|████▎     | 150/350 [00:03<00:04, 48.70it/s]"
     ]
    },
    {
     "name": "stdout",
     "output_type": "stream",
     "text": [
      "We got you  207-03 ['E13', 'E12'] ['Increase', 'Decrease']\n",
      "We got you  215-01 ['E22', 'E23', 'E24'] ['OtherChange', 'Increase', 'Decrease']\n",
      "We got you  218-01 ['E11', 'E25'] ['UniqueDose', 'UniqueDose']\n"
     ]
    },
    {
     "name": "stderr",
     "output_type": "stream",
     "text": [
      " 46%|████▋     | 162/350 [00:03<00:03, 50.99it/s]"
     ]
    },
    {
     "name": "stdout",
     "output_type": "stream",
     "text": [
      "We got you  220-04 ['E2', 'E17'] ['Increase', 'Increase']\n",
      "We got you  227-02 ['E11', 'E35'] ['Start', 'Start']\n"
     ]
    },
    {
     "name": "stderr",
     "output_type": "stream",
     "text": [
      " 52%|█████▏    | 181/350 [00:03<00:04, 40.15it/s]"
     ]
    },
    {
     "name": "stdout",
     "output_type": "stream",
     "text": [
      "We got you  244-04 ['E12', 'E41'] ['Increase', 'Unknown']\n",
      "We got you  247-01 ['E20', 'E36'] ['Increase', 'Increase']\n"
     ]
    },
    {
     "name": "stderr",
     "output_type": "stream",
     "text": [
      " 61%|██████    | 213/350 [00:04<00:02, 55.89it/s]"
     ]
    },
    {
     "name": "stdout",
     "output_type": "stream",
     "text": [
      "We got you  271-02 ['E3', 'E5'] ['Start', 'Stop']\n",
      "We got you  278-01 ['E17', 'E41'] ['Start', 'Start']\n"
     ]
    },
    {
     "name": "stderr",
     "output_type": "stream",
     "text": [
      " 63%|██████▎   | 220/350 [00:04<00:02, 57.77it/s]"
     ]
    },
    {
     "name": "stdout",
     "output_type": "stream",
     "text": [
      "We got you  278-05 ['E11', 'E20'] ['Start', 'Increase']\n",
      "We got you  288-04 ['E16', 'E24'] ['Decrease', 'Stop']\n",
      "We got you  288-04 ['E26', 'E27'] ['Start', 'Increase']\n",
      "We got you  289-03 ['E11', 'E45'] ['Start', 'Unknown']\n",
      "We got you  289-04 ['E7', 'E36'] ['Start', 'Unknown']\n"
     ]
    },
    {
     "name": "stderr",
     "output_type": "stream",
     "text": [
      " 69%|██████▊   | 240/350 [00:04<00:03, 36.44it/s]"
     ]
    },
    {
     "name": "stdout",
     "output_type": "stream",
     "text": [
      "We got you  291-05 ['E13', 'E29'] ['Start', 'Stop']\n",
      "We got you  291-05 ['E27', 'E28'] ['Start', 'Stop']\n",
      "We got you  291-05 ['E30', 'E31', 'E32'] ['Start', 'Decrease', 'Stop']\n",
      "We got you  294-04 ['E28', 'E52'] ['Decrease', 'Increase']\n",
      "We got you  294-04 ['E35', 'E36'] ['Stop', 'Stop']\n"
     ]
    },
    {
     "name": "stderr",
     "output_type": "stream",
     "text": [
      " 76%|███████▌  | 265/350 [00:05<00:01, 52.33it/s]"
     ]
    },
    {
     "name": "stdout",
     "output_type": "stream",
     "text": [
      "We got you  304-02 ['E19', 'E20'] ['Decrease', 'Stop']\n",
      "We got you  304-02 ['E21', 'E22'] ['Start', 'Increase']\n",
      "We got you  309-04 ['E3', 'E5'] ['Start', 'Stop']\n"
     ]
    },
    {
     "name": "stderr",
     "output_type": "stream",
     "text": [
      " 81%|████████▏ | 285/350 [00:05<00:01, 40.69it/s]"
     ]
    },
    {
     "name": "stdout",
     "output_type": "stream",
     "text": [
      "We got you  329-02 ['E2', 'E43'] ['Start', 'Stop']\n",
      "We got you  329-02 ['E3', 'E44'] ['Start', 'Stop']\n",
      "We got you  329-02 ['E5', 'E46'] ['Start', 'Stop']\n"
     ]
    },
    {
     "name": "stderr",
     "output_type": "stream",
     "text": [
      " 89%|████████▉ | 311/350 [00:06<00:00, 41.54it/s]"
     ]
    },
    {
     "name": "stdout",
     "output_type": "stream",
     "text": [
      "We got you  351-01 ['E7', 'E8'] ['Decrease', 'Decrease']\n",
      "We got you  352-05 ['E32', 'E47'] ['Decrease', 'Stop']\n",
      "We got you  354-03 ['E1', 'E23'] ['Start', 'Stop']\n",
      "We got you  354-03 ['E2', 'E24'] ['Start', 'Stop']\n",
      "We got you  354-03 ['E4', 'E25'] ['Start', 'Stop']\n",
      "We got you  356-02 ['E12', 'E26'] ['Start', 'Start']\n"
     ]
    },
    {
     "name": "stderr",
     "output_type": "stream",
     "text": [
      " 91%|█████████ | 319/350 [00:06<00:00, 48.11it/s]"
     ]
    },
    {
     "name": "stdout",
     "output_type": "stream",
     "text": [
      "We got you  360-02 ['E5', 'E15'] ['Increase', 'Increase']\n"
     ]
    },
    {
     "name": "stderr",
     "output_type": "stream",
     "text": [
      " 95%|█████████▍| 332/350 [00:06<00:00, 35.93it/s]"
     ]
    },
    {
     "name": "stdout",
     "output_type": "stream",
     "text": [
      "We got you  373-01 ['E18', 'E30'] ['Start', 'Stop']\n"
     ]
    },
    {
     "name": "stderr",
     "output_type": "stream",
     "text": [
      " 96%|█████████▋| 337/350 [00:07<00:00, 38.46it/s]"
     ]
    },
    {
     "name": "stdout",
     "output_type": "stream",
     "text": [
      "We got you  378-04 ['E1', 'E24'] ['Start', 'Stop']\n",
      "We got you  386-03 ['E2', 'E22'] ['Stop', 'Start']\n"
     ]
    },
    {
     "name": "stderr",
     "output_type": "stream",
     "text": [
      "100%|██████████| 350/350 [00:07<00:00, 47.27it/s]\n",
      "  0%|          | 0/50 [00:00<?, ?it/s]"
     ]
    },
    {
     "name": "stdout",
     "output_type": "stream",
     "text": [
      "We got you  393-05 ['E44', 'E45'] ['Stop', 'Start']\n",
      "We got you  394-04 ['E35', 'E47'] ['Increase', 'Stop']\n",
      "We got you  399-02 ['E1', 'E17'] ['Start', 'Stop']\n"
     ]
    },
    {
     "name": "stderr",
     "output_type": "stream",
     "text": [
      " 18%|█▊        | 9/50 [00:00<00:01, 23.87it/s]"
     ]
    },
    {
     "name": "stdout",
     "output_type": "stream",
     "text": [
      "We got you  130-02 ['E12', 'E26'] ['Start', 'Stop']\n",
      "We got you  130-02 ['E13', 'E14'] ['Start', 'Stop']\n",
      "We got you  131-02 ['E1', 'E21'] ['Start', 'Stop']\n",
      "We got you  131-02 ['E11', 'E27'] ['Start', 'Decrease']\n",
      "We got you  134-02 ['E4', 'E6'] ['Start', 'Increase']\n",
      "We got you  134-02 ['E5', 'E7'] ['Start', 'Increase']\n"
     ]
    },
    {
     "name": "stderr",
     "output_type": "stream",
     "text": [
      " 30%|███       | 15/50 [00:00<00:01, 28.40it/s]"
     ]
    },
    {
     "name": "stdout",
     "output_type": "stream",
     "text": [
      "We got you  187-01 ['E17', 'E21'] ['Stop', 'Start']\n",
      "We got you  187-03 ['E23', 'E49'] ['Stop', 'Start']\n"
     ]
    },
    {
     "name": "stderr",
     "output_type": "stream",
     "text": [
      " 58%|█████▊    | 29/50 [00:00<00:00, 25.45it/s]"
     ]
    },
    {
     "name": "stdout",
     "output_type": "stream",
     "text": [
      "We got you  187-04 ['E25', 'E45'] ['Start', 'Stop']\n",
      "We got you  255-02 ['E22', 'E53'] ['Start', 'Increase']\n",
      "We got you  265-04 ['E11', 'E25'] ['Start', 'Increase']\n"
     ]
    },
    {
     "name": "stderr",
     "output_type": "stream",
     "text": [
      " 82%|████████▏ | 41/50 [00:01<00:00, 35.53it/s]"
     ]
    },
    {
     "name": "stdout",
     "output_type": "stream",
     "text": [
      "We got you  330-04 ['E17', 'E18', 'E19'] ['Stop', 'Start', 'Stop']\n",
      "We got you  350-01 ['E16', 'E17'] ['Stop', 'Start']\n",
      "We got you  350-04 ['E17', 'E28'] ['Decrease', 'Stop']\n",
      "We got you  350-04 ['E18', 'E29'] ['Decrease', 'Stop']\n",
      "We got you  350-04 ['E21', 'E30'] ['Decrease', 'Stop']\n"
     ]
    },
    {
     "name": "stderr",
     "output_type": "stream",
     "text": [
      "100%|██████████| 50/50 [00:01<00:00, 34.14it/s]"
     ]
    },
    {
     "name": "stdout",
     "output_type": "stream",
     "text": [
      "We got you  389-02 ['E1', 'E53'] ['Start', 'Stop']\n",
      "We got you  389-02 ['E28', 'E57'] ['Start', 'Stop']\n",
      "We got you  389-02 ['E44', 'E45', 'E46'] ['Decrease', 'Stop']\n"
     ]
    },
    {
     "name": "stderr",
     "output_type": "stream",
     "text": [
      "\n"
     ]
    }
   ],
   "source": [
    "from preprocess_spacy import preprocess_spacy\n",
    "from os.path import isfile, join\n",
    "import json\n",
    "data_path = [\"../../data/original_v3/train/\",\"../../data/original_v3/dev/\"]\n",
    "spacy_path = \"../../data/spacy/\"\n",
    "\n",
    "stats = {}\n",
    "for i,path in enumerate(data_path):\n",
    "    stats[path.split('/')[-2]] = preprocess_spacy(path, spacy_path, 1)\n",
    "    \n",
    "with open(join(spacy_path,'spacy_stats.txt'),\"w\") as st_out:\n",
    "     st_out.write(json.dumps(stats))"
   ]
  },
  {
   "cell_type": "code",
   "execution_count": null,
   "metadata": {},
   "outputs": [],
   "source": []
  }
 ],
 "metadata": {
  "kernelspec": {
   "display_name": "Python 3",
   "language": "python",
   "name": "python3"
  },
  "language_info": {
   "codemirror_mode": {
    "name": "ipython",
    "version": 3
   },
   "file_extension": ".py",
   "mimetype": "text/x-python",
   "name": "python",
   "nbconvert_exporter": "python",
   "pygments_lexer": "ipython3",
   "version": "3.7.4"
  }
 },
 "nbformat": 4,
 "nbformat_minor": 4
}
