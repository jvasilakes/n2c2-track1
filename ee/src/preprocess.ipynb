{
 "cells": [
  {
   "cell_type": "code",
   "execution_count": 1,
   "metadata": {},
   "outputs": [],
   "source": [
    "### Let us start"
   ]
  },
  {
   "cell_type": "code",
   "execution_count": 1,
   "metadata": {},
   "outputs": [
    {
     "name": "stderr",
     "output_type": "stream",
     "text": [
      "100%|██████████| 350/350 [00:53<00:00,  6.52it/s]\n",
      "100%|██████████| 50/50 [00:07<00:00,  6.40it/s]\n"
     ]
    }
   ],
   "source": [
    "import json\n",
    "from preprocess import preprocess\n",
    "from os.path import isfile, join\n",
    "data_path = [\"../data/train/\",\"../data/dev/\"] \n",
    "preprocess_path = \"../data/preprocessed/\"\n",
    "\n",
    "stats = {}\n",
    "for i,path in enumerate(data_path):\n",
    "    stats[path.split('/')[-2]] = preprocess(path, preprocess_path, 1)\n",
    "    \n",
    "with open(join(preprocess_path,'stats.txt'),\"w\") as st_out:\n",
    "     st_out.write(json.dumps(stats))"
   ]
  },
  {
   "cell_type": "code",
   "execution_count": 3,
   "metadata": {},
   "outputs": [
    {
     "ename": "NameError",
     "evalue": "name 'os' is not defined",
     "output_type": "error",
     "traceback": [
      "\u001b[0;31m---------------------------------------------------------------------------\u001b[0m",
      "\u001b[0;31mNameError\u001b[0m                                 Traceback (most recent call last)",
      "\u001b[0;32m<ipython-input-3-6a06e6229b70>\u001b[0m in \u001b[0;36m<module>\u001b[0;34m\u001b[0m\n\u001b[0;32m----> 1\u001b[0;31m \u001b[0mpwd\u001b[0m \u001b[0;34m=\u001b[0m \u001b[0mos\u001b[0m\u001b[0;34m.\u001b[0m\u001b[0mgetcwd\u001b[0m\u001b[0;34m(\u001b[0m\u001b[0;34m)\u001b[0m\u001b[0;34m\u001b[0m\u001b[0;34m\u001b[0m\u001b[0m\n\u001b[0m\u001b[1;32m      2\u001b[0m \u001b[0mprint\u001b[0m\u001b[0;34m(\u001b[0m\u001b[0mpwd\u001b[0m\u001b[0;34m)\u001b[0m\u001b[0;34m\u001b[0m\u001b[0;34m\u001b[0m\u001b[0m\n\u001b[1;32m      3\u001b[0m \u001b[0mos\u001b[0m\u001b[0;34m.\u001b[0m\u001b[0mchdir\u001b[0m\u001b[0;34m(\u001b[0m\u001b[0;34m'../..'\u001b[0m\u001b[0;34m)\u001b[0m\u001b[0;34m\u001b[0m\u001b[0;34m\u001b[0m\u001b[0m\n",
      "\u001b[0;31mNameError\u001b[0m: name 'os' is not defined"
     ]
    }
   ],
   "source": [
    "pwd = os.getcwd()\n",
    "print(pwd)\n",
    "os.chdir('../..')"
   ]
  },
  {
   "cell_type": "code",
   "execution_count": 1,
   "metadata": {},
   "outputs": [
    {
     "name": "stderr",
     "output_type": "stream",
     "text": [
      "  0%|          | 0/350 [00:00<?, ?it/s]"
     ]
    },
    {
     "name": "stdout",
     "output_type": "stream",
     "text": [
      "Non-existent text in file 105-02: 1558\t --> '   Meds:  lovastatin' != 'itis Meds All: NKDA ' \n",
      "newtext Record date: 2147-03-11 Reason for consult: 65 year old man with progressive LBP, found to have heterogeneous marrow on MRI, we have been consulted to help evaluate, possibly perform a bone marrow biopsy. HPI 65 yo male with PMH significant for DM, autonomic dysfunction, CRI, depression and arthritis who was admitted for progressive lower back pain. He has had LBP for at least three years which is located in his mid lumbar region, non radiating, worse with standing. The pain had progressed such that he has a very poor performance status. He cannot stand but for a few minutes at a time. He denies focal wekness. He had an MRI of the LS spine 2/02/47 which revealed heterogeneous marrow concernig for an infiltrating process in his marrow. He has had an SPEP which was normal, he has had a bone scan which was negatvie. He does not have an elevated protein or globulin fraction. His CRI is longstanding  and attributed to his DM. He was set up for a outpt BM bx to evaluate the marrow process, but the pain has been so severe, he was admitted for an inpatient work up. Of note he has longstanding anemia related to his CRI, perhaps anemia of chronic disease. He denies any weight loss, fevers, chills, night sweats, decreased appetite. He does report fatigue which has become progressive. PMH 1. DM 2. autonomic dysfunction with orthostatic hypotension 3. diabetic retinopathy 4. depression 5. CRI 6. OA 7.  H/o TB 2132 8.  C7 radiculopthy with bil hand weakness and neck pain 9. HL 10 Seborrheic dermatitis Meds All: NKDA FH: Father had Diabetes, mother died of breast cancer. SH: Worked in Foxworthy Industrials 2100-4 during which time he had multple exposures to chemicals. Retired from working in the city of Victorville 2141. He reports a 30 pyr hx of tobacco, former hx of heavy ETOH use, stopped since 12/46. Denies IV DU. PE General: thin gentleman, in no actute distress HEENT: PERRLA< EOMI, Op without thrush, no thyromegaly, No JVD Chest: CTA bil CV: RRR nml s1, s2, no m/g/r Abd: bs, soft, non-tender, non-distended, no hepatosplenomegaly Ext: no c/c/e neuro: strenth 5/5 throughout; absent patellar reflexes, 2+ biceps, triceps, brachioradialis, downgoing toes bilaterally Labs Cr 1.4 Bun 25  HCT 28.6 WBC 5.5 Plt 201  MCV 87  80seg; 15l ESR 35 Pt/Ptt nml SPEP 2/47: nml  T prot 6 Alb 3.4 MRI 1/47: heterogenous bonemarrow uptake in vertebrae and pelvis, concerning for infiltrative process Imp/Plan Mr. Tuttle is a 65 year old male with a three year hisotry of porgressive lower back pain, non-radicualr in nature. The pain has progressed to a significant level such that he spends most of his day in bed. He did have an MRI of the L/S spine which was negative except it did reveal heterogeous uptake in the vertebral and pelvic bone marrow. They raised the question of multiple myeloma or another infiltrative process. He does have renal insufficiency, but no other abnormalities to suggest MM. We still need a few key pieces of data to rule this out. Other infiltrative processes such as malignancy from elsewhere should be excluded. In addition, he has a hx of a positive PPD, unclear if he actually had active TB or was treated prophylactically. Is any of this TB? Recommend skeletal survey quantitative urine bence jones proteins as there are  non-secretory myelomas beta 2 microglobulin reticulocyte count consider chest CT to r/o lung cancer given his history of tobacco guaiac all stools Will review the MRI with radiologist to get a better differential Consider BM biopsy next week, unfortunately will not be able to perform today. Will review smear and staff with Dr. Landry in the afternoon. Thank you for this consult. Ivy Whitaker, M.D.\n"
     ]
    },
    {
     "name": "stderr",
     "output_type": "stream",
     "text": [
      "\n"
     ]
    },
    {
     "ename": "NameError",
     "evalue": "name 'exit' is not defined",
     "output_type": "error",
     "traceback": [
      "\u001b[0;31m---------------------------------------------------------------------------\u001b[0m",
      "\u001b[0;31mNameError\u001b[0m                                 Traceback (most recent call last)",
      "\u001b[0;32m<ipython-input-1-3aa2df159a26>\u001b[0m in \u001b[0;36m<module>\u001b[0;34m\u001b[0m\n\u001b[1;32m      7\u001b[0m \u001b[0mstats\u001b[0m \u001b[0;34m=\u001b[0m \u001b[0;34m{\u001b[0m\u001b[0;34m}\u001b[0m\u001b[0;34m\u001b[0m\u001b[0;34m\u001b[0m\u001b[0m\n\u001b[1;32m      8\u001b[0m \u001b[0;32mfor\u001b[0m \u001b[0mi\u001b[0m\u001b[0;34m,\u001b[0m\u001b[0mpath\u001b[0m \u001b[0;32min\u001b[0m \u001b[0menumerate\u001b[0m\u001b[0;34m(\u001b[0m\u001b[0mdata_path\u001b[0m\u001b[0;34m)\u001b[0m\u001b[0;34m:\u001b[0m\u001b[0;34m\u001b[0m\u001b[0;34m\u001b[0m\u001b[0m\n\u001b[0;32m----> 9\u001b[0;31m     \u001b[0mstats\u001b[0m\u001b[0;34m[\u001b[0m\u001b[0mpath\u001b[0m\u001b[0;34m.\u001b[0m\u001b[0msplit\u001b[0m\u001b[0;34m(\u001b[0m\u001b[0;34m'/'\u001b[0m\u001b[0;34m)\u001b[0m\u001b[0;34m[\u001b[0m\u001b[0;34m-\u001b[0m\u001b[0;36m2\u001b[0m\u001b[0;34m]\u001b[0m\u001b[0;34m]\u001b[0m \u001b[0;34m=\u001b[0m \u001b[0mpreprocess_segmented\u001b[0m\u001b[0;34m(\u001b[0m\u001b[0mpath\u001b[0m\u001b[0;34m,\u001b[0m \u001b[0mpreprocess_path\u001b[0m\u001b[0;34m,\u001b[0m \u001b[0msegmented_path\u001b[0m\u001b[0;34m,\u001b[0m \u001b[0;36m1\u001b[0m\u001b[0;34m)\u001b[0m\u001b[0;34m\u001b[0m\u001b[0;34m\u001b[0m\u001b[0m\n\u001b[0m\u001b[1;32m     10\u001b[0m \u001b[0;34m\u001b[0m\u001b[0m\n\u001b[1;32m     11\u001b[0m \u001b[0;34m\u001b[0m\u001b[0m\n",
      "\u001b[0;32m~/Documents/PhD/myCode/n2c2/src/preprocess_biomedicus.py\u001b[0m in \u001b[0;36mpreprocess_segmented\u001b[0;34m(data_path, preprocess_path, segmented_path, window)\u001b[0m\n\u001b[1;32m    243\u001b[0m                 \u001b[0msents_dict\u001b[0m \u001b[0;34m=\u001b[0m \u001b[0mnew_data\u001b[0m\u001b[0;34m[\u001b[0m\u001b[0;34m\"documents\"\u001b[0m\u001b[0;34m]\u001b[0m\u001b[0;34m[\u001b[0m\u001b[0;34m\"plaintext\"\u001b[0m\u001b[0;34m]\u001b[0m\u001b[0;34m[\u001b[0m\u001b[0;34m\"label_indices\"\u001b[0m\u001b[0;34m]\u001b[0m\u001b[0;34m[\u001b[0m\u001b[0;34m\"sentences\"\u001b[0m\u001b[0;34m]\u001b[0m\u001b[0;34m[\u001b[0m\u001b[0;34m\"labels\"\u001b[0m\u001b[0;34m]\u001b[0m\u001b[0;34m\u001b[0m\u001b[0;34m\u001b[0m\u001b[0m\n\u001b[1;32m    244\u001b[0m                 \u001b[0msplit_sentences\u001b[0m \u001b[0;34m=\u001b[0m \u001b[0;34m[\u001b[0m\u001b[0msent_dict\u001b[0m\u001b[0;34m[\u001b[0m\u001b[0;34m'_text'\u001b[0m\u001b[0;34m]\u001b[0m\u001b[0;34m.\u001b[0m\u001b[0mreplace\u001b[0m\u001b[0;34m(\u001b[0m\u001b[0;34m'\\n'\u001b[0m\u001b[0;34m,\u001b[0m \u001b[0;34m' '\u001b[0m\u001b[0;34m)\u001b[0m  \u001b[0;32mfor\u001b[0m \u001b[0msent_dict\u001b[0m \u001b[0;32min\u001b[0m \u001b[0msents_dict\u001b[0m\u001b[0;34m]\u001b[0m\u001b[0;34m\u001b[0m\u001b[0;34m\u001b[0m\u001b[0m\n\u001b[0;32m--> 245\u001b[0;31m                 \u001b[0mnew_entities\u001b[0m\u001b[0;34m,\u001b[0m \u001b[0msplit_sentences\u001b[0m \u001b[0;34m=\u001b[0m \u001b[0madjust_offsets\u001b[0m\u001b[0;34m(\u001b[0m\u001b[0morig_sentences\u001b[0m\u001b[0;34m,\u001b[0m \u001b[0msplit_sentences\u001b[0m\u001b[0;34m,\u001b[0m \u001b[0mdata\u001b[0m\u001b[0;34m[\u001b[0m\u001b[0;34m'entities'\u001b[0m\u001b[0;34m]\u001b[0m\u001b[0;34m,\u001b[0m \u001b[0mf\u001b[0m\u001b[0;34m)\u001b[0m\u001b[0;34m\u001b[0m\u001b[0;34m\u001b[0m\u001b[0m\n\u001b[0m\u001b[1;32m    246\u001b[0m                 \u001b[0mdata\u001b[0m\u001b[0;34m[\u001b[0m\u001b[0;34m'entities'\u001b[0m\u001b[0;34m]\u001b[0m \u001b[0;34m=\u001b[0m \u001b[0mnew_entities\u001b[0m\u001b[0;34m\u001b[0m\u001b[0;34m\u001b[0m\u001b[0m\n\u001b[1;32m    247\u001b[0m                 \u001b[0mdata\u001b[0m\u001b[0;34m[\u001b[0m\u001b[0;34m'sents'\u001b[0m\u001b[0;34m]\u001b[0m \u001b[0;34m=\u001b[0m \u001b[0msplit_sentences\u001b[0m\u001b[0;34m\u001b[0m\u001b[0;34m\u001b[0m\u001b[0m\n",
      "\u001b[0;32m~/Documents/PhD/myCode/n2c2/src/preprocess_biomedicus.py\u001b[0m in \u001b[0;36madjust_offsets\u001b[0;34m(old_sents, new_sents, old_entities, f)\u001b[0m\n\u001b[1;32m    145\u001b[0m                                                              repr(newtext[newidx-10:newidx+10])))\n\u001b[1;32m    146\u001b[0m             \u001b[0mprint\u001b[0m\u001b[0;34m(\u001b[0m\u001b[0;34m'newtext'\u001b[0m\u001b[0;34m,\u001b[0m \u001b[0mnewtext\u001b[0m\u001b[0;34m)\u001b[0m\u001b[0;34m\u001b[0m\u001b[0;34m\u001b[0m\u001b[0m\n\u001b[0;32m--> 147\u001b[0;31m             \u001b[0mexit\u001b[0m\u001b[0;34m(\u001b[0m\u001b[0;36m0\u001b[0m\u001b[0;34m)\u001b[0m\u001b[0;34m\u001b[0m\u001b[0;34m\u001b[0m\u001b[0m\n\u001b[0m\u001b[1;32m    148\u001b[0m \u001b[0;34m\u001b[0m\u001b[0m\n\u001b[1;32m    149\u001b[0m \u001b[0;34m\u001b[0m\u001b[0m\n",
      "\u001b[0;31mNameError\u001b[0m: name 'exit' is not defined"
     ]
    }
   ],
   "source": [
    "from preprocess_biomedicus import preprocess_segmented\n",
    "from os.path import isfile, join\n",
    "data_path = [\"../data/train/\",\"../data/dev/\"] \n",
    "preprocess_path = \"../data/preprocessed/\"\n",
    "segmented_path = \"../data/segmented/\"\n",
    "\n",
    "stats = {}\n",
    "for i,path in enumerate(data_path):\n",
    "    stats[path.split('/')[-2]] = preprocess_segmented(path, preprocess_path, segmented_path, 1)\n",
    "    \n",
    "\n"
   ]
  },
  {
   "cell_type": "code",
   "execution_count": null,
   "metadata": {},
   "outputs": [],
   "source": []
  }
 ],
 "metadata": {
  "kernelspec": {
   "display_name": "Python 3",
   "language": "python",
   "name": "python3"
  },
  "language_info": {
   "codemirror_mode": {
    "name": "ipython",
    "version": 3
   },
   "file_extension": ".py",
   "mimetype": "text/x-python",
   "name": "python",
   "nbconvert_exporter": "python",
   "pygments_lexer": "ipython3",
   "version": "3.7.4"
  }
 },
 "nbformat": 4,
 "nbformat_minor": 4
}
